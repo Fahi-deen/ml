{
 "cells": [
  {
   "cell_type": "code",
   "execution_count": 3,
   "id": "c48e7e9f",
   "metadata": {},
   "outputs": [],
   "source": [
    "import os\n",
    "import numpy as np\n",
    "import cv2\n",
    "import random\n",
    "import pickle\n",
    "import time\n",
    "import sys"
   ]
  },
  {
   "cell_type": "code",
   "execution_count": 3,
   "id": "b4120609",
   "metadata": {},
   "outputs": [],
   "source": [
    "def update():\n",
    "    print(\"updating the dataset..\")\n",
    "\n",
    "    path = os.getcwd()\n",
    "    category = []\n",
    "    recognizer = cv2.face.LBPHFaceRecognizer_create()\n",
    "    Data_Dir = os.path.join(path, 'dataset')\n",
    "    training = []\n",
    "    for file in os.listdir(Data_Dir):\n",
    "        img_dir = os.path.join(Data_Dir, file)\n",
    "        category.append(file)\n",
    "        for images in os.listdir(img_dir):\n",
    "            img = cv2.imread(os.path.join(img_dir, images),\n",
    "                             cv2.IMREAD_GRAYSCALE)\n",
    "            img = cv2.resize(img, (150, 150))\n",
    "            training.append([img, category.index(file)])\n",
    "    random.shuffle(training)\n",
    "    x = []\n",
    "    y = []\n",
    "    for features, labels in training:\n",
    "        x.append(features)\n",
    "        y.append(labels)\n",
    "    x = np.array(x).reshape(-1, 150, 150, 1)\n",
    "    pickle_out = open(\"training_img.pickle\", \"wb\")\n",
    "    pickle.dump(x, pickle_out)\n",
    "    pickle_out.close()\n",
    "    pickle_out = open(\"training_roll_no.pickle\", \"wb\")\n",
    "    pickle.dump(y, pickle_out)\n",
    "    pickle_out.close()\n",
    "    recognizer.train(x, np.array(y))\n",
    "    recognizer.save(\"trainer.yml\")\n",
    "    print(\"updated..\")"
   ]
  },
  {
   "cell_type": "code",
   "execution_count": 8,
   "id": "4654d96a",
   "metadata": {},
   "outputs": [],
   "source": [
    "def recognise(img):\n",
    "    print(\"starting recogniser...\")\n",
    "    path = os.getcwd()\n",
    "    path = os.path.join(path, \"dataset\")\n",
    "    Categories = []\n",
    "    for files in os.listdir(path):\n",
    "        Categories.append(files)\n",
    "    recognizer = cv2.face.LBPHFaceRecognizer_create()\n",
    "    recognizer1 = cv2.face.FisherFaceRecognizer_create()\n",
    "    pickle_in = open(\"training_img.pickle\", \"rb\")\n",
    "    x = pickle.load(pickle_in)\n",
    "    pickle_in = open(\"training_roll_no.pickle\", \"rb\")\n",
    "    y = pickle.load(pickle_in)\n",
    "    recognizer.read(\"trainer.yml\")\n",
    "    face_cascade = cv2.CascadeClassifier(\n",
    "        'haarcascade_frontalface_default.xml')\n",
    "    frame = cv2.imread(img,1)\n",
    "    gray = cv2.cvtColor(frame, cv2.COLOR_BGR2GRAY)\n",
    "    faces = face_cascade.detectMultiScale(gray, 1.3, 5)\n",
    "    for x, y, w, h in faces:\n",
    "        cv2.rectangle(frame, (x, y), (x + w, y + h), (255, 255, 255), 2)\n",
    "        roi_gray = gray[y:y + h, x:x + w]\n",
    "        roi_gray = cv2.resize(roi_gray, (150, 150))\n",
    "        y1, conf = recognizer.predict(roi_gray)\n",
    "        print(Categories[y1])\n",
    "        font = cv2.FONT_HERSHEY_COMPLEX\n",
    "        cv2.putText(\n",
    "            frame, Categories[y1], (x, y), font, 1, (0, 0, 255), 1, lineType=cv2.LINE_AA)\n",
    "    cv2.imshow('img', frame)\n",
    "    cv2.destroyAllWindows()"
   ]
  },
  {
   "cell_type": "code",
   "execution_count": 11,
   "id": "d93bb64e",
   "metadata": {},
   "outputs": [
    {
     "name": "stdout",
     "output_type": "stream",
     "text": [
      "starting recogniser...\n",
      "joe\n",
      "starting recogniser...\n",
      "joe\n",
      "starting recogniser...\n",
      "joe\n"
     ]
    }
   ],
   "source": [
    "for each in os.listdir('dataset/joe'):\n",
    "    recognise('dataset/joe/'+each)"
   ]
  }
 ],
 "metadata": {
  "kernelspec": {
   "display_name": "Python 3",
   "language": "python",
   "name": "python3"
  },
  "language_info": {
   "codemirror_mode": {
    "name": "ipython",
    "version": 3
   },
   "file_extension": ".py",
   "mimetype": "text/x-python",
   "name": "python",
   "nbconvert_exporter": "python",
   "pygments_lexer": "ipython3",
   "version": "3.8.8"
  }
 },
 "nbformat": 4,
 "nbformat_minor": 5
}
